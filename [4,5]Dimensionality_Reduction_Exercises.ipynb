{
 "cells": [
  {
   "cell_type": "code",
   "execution_count": 5,
   "metadata": {
    "collapsed": false
   },
   "outputs": [],
   "source": [
    "import pandas as pd\n",
    "import numpy as np\n",
    "\n",
    "data = pd.read_csv(\"Wholesale_customers_data.csv\")"
   ]
  },
  {
   "cell_type": "code",
   "execution_count": 17,
   "metadata": {
    "collapsed": false
   },
   "outputs": [
    {
     "name": "stdout",
     "output_type": "stream",
     "text": [
      "Data Shape:  (438, 8) \n",
      "\n",
      "Dat Head:     Channel  Region    Fresh    Milk  Grocery  Frozen  Detergents_Paper  \\\n",
      "0      2.0     3.0  12669.0  9656.0   7561.0   214.0            2674.0   \n",
      "3      1.0     3.0  13265.0  1196.0   4221.0  6404.0             507.0   \n",
      "4      2.0     3.0  22615.0  5410.0   7198.0  3915.0            1777.0   \n",
      "5      2.0     3.0   9413.0  8259.0   5126.0   666.0            1795.0   \n",
      "6      2.0     3.0  12126.0  3199.0   6975.0   480.0            3140.0   \n",
      "\n",
      "   Delicassen  \n",
      "0      1338.0  \n",
      "3      1788.0  \n",
      "4      5185.0  \n",
      "5      1451.0  \n",
      "6       545.0   \n",
      "\n",
      "Data Dtypes:  Fresh               float64\n",
      "Milk                float64\n",
      "Grocery             float64\n",
      "Frozen              float64\n",
      "Detergents_Paper    float64\n",
      "Delicassen          float64\n",
      "dtype: object \n",
      "\n"
     ]
    }
   ],
   "source": [
    "print(\"Data Shape: \" , data.shape , \"\\n\")\n",
    "\n",
    "print(\"Dat Head: \" , data.head() , \"\\n\")\n",
    "\n",
    "data = data.drop([\"Channel\" , \"Region\"] , axis = 1)\n",
    "\n",
    "# tipos das variáveis\n",
    "print(\"Data Dtypes: \" , data.dtypes , \"\\n\")\n",
    "    \n",
    "    \n",
    "    \n",
    "# Converte para floats\n",
    "for col in data.columns:\n",
    "    data[col] = data[col].astype(np.float)"
   ]
  },
  {
   "cell_type": "code",
   "execution_count": 18,
   "metadata": {
    "collapsed": false
   },
   "outputs": [
    {
     "name": "stdout",
     "output_type": "stream",
     "text": [
      "       Fresh     Milk  Grocery   Frozen  Detergents_Paper  Delicassen\n",
      "0    12669.0   9656.0   7561.0    214.0            2674.0      1338.0\n",
      "3    13265.0   1196.0   4221.0   6404.0             507.0      1788.0\n",
      "4    22615.0   5410.0   7198.0   3915.0            1777.0      5185.0\n",
      "5     9413.0   8259.0   5126.0    666.0            1795.0      1451.0\n",
      "6    12126.0   3199.0   6975.0    480.0            3140.0       545.0\n",
      "7     7579.0   4956.0   9426.0   1669.0            3321.0      2566.0\n",
      "8     5963.0   3648.0   6192.0    425.0            1716.0       750.0\n",
      "9     6006.0  11093.0  18881.0   1159.0            7425.0      2098.0\n",
      "10    3366.0   5403.0  12974.0   4400.0            5977.0      1744.0\n",
      "11   13146.0   1124.0   4523.0   1420.0             549.0       497.0\n",
      "12   31714.0  12319.0  11757.0    287.0            3881.0      2931.0\n",
      "13   21217.0   6208.0  14982.0   3095.0            6707.0       602.0\n",
      "14   24653.0   9465.0  12091.0    294.0            5058.0      2168.0\n",
      "15   10253.0   1114.0   3821.0    397.0             964.0       412.0\n",
      "16    1020.0   8816.0  12121.0    134.0            4508.0      1080.0\n",
      "17    5876.0   6157.0   2933.0    839.0             370.0      4478.0\n",
      "18   18601.0   6327.0  10099.0   2205.0            2767.0      3181.0\n",
      "19    7780.0   2495.0   9464.0    669.0            2518.0       501.0\n",
      "20   17546.0   4519.0   4602.0   1066.0            2259.0      2124.0\n",
      "21    5567.0    871.0   2010.0   3383.0             375.0       569.0\n",
      "22   31276.0   1917.0   4469.0   9408.0            2381.0      4334.0\n",
      "23   26373.0  36423.0  22019.0   5154.0            4337.0     16523.0\n",
      "24   22647.0   9776.0  13792.0   2915.0            4482.0      5778.0\n",
      "25   16165.0   4230.0   7595.0    201.0            4003.0        57.0\n",
      "26    9898.0    961.0   2861.0   3151.0             242.0       833.0\n",
      "27   14276.0    803.0   3045.0    485.0             100.0       518.0\n",
      "28    4113.0  20484.0  25957.0   1158.0            8604.0      5206.0\n",
      "29   43088.0   2100.0   2609.0   1200.0            1107.0       823.0\n",
      "30   18815.0   3610.0  11107.0   1148.0            2134.0      2963.0\n",
      "31    2612.0   4339.0   3133.0   2088.0             820.0       985.0\n",
      "..       ...      ...      ...      ...               ...         ...\n",
      "410   6633.0   2096.0   4563.0   1389.0            1860.0      1892.0\n",
      "411   2126.0   3289.0   3281.0   1535.0             235.0      4365.0\n",
      "412     97.0   3605.0  12400.0     98.0            2970.0        62.0\n",
      "413   4983.0   4859.0   6633.0  17866.0             912.0      2435.0\n",
      "414   5969.0   1990.0   3417.0   5679.0            1135.0       290.0\n",
      "415   7842.0   6046.0   8552.0   1691.0            3540.0      1874.0\n",
      "416   4389.0  10940.0  10908.0    848.0            6728.0       993.0\n",
      "417   5065.0   5499.0  11055.0    364.0            3485.0      1063.0\n",
      "418    660.0   8494.0  18622.0    133.0            6740.0       776.0\n",
      "419   8861.0   3783.0   2223.0    633.0            1580.0      1521.0\n",
      "420   4456.0   5266.0  13227.0     25.0            6818.0      1393.0\n",
      "421  17063.0   4847.0   9053.0   1031.0            3415.0      1784.0\n",
      "422  26400.0   1377.0   4172.0    830.0             948.0      1218.0\n",
      "423  17565.0   3686.0   4657.0   1059.0            1803.0       668.0\n",
      "424  16980.0   2884.0  12232.0    874.0            3213.0       249.0\n",
      "425  11243.0   2408.0   2593.0  15348.0             108.0      1886.0\n",
      "426  13134.0   9347.0  14316.0   3141.0            5079.0      1894.0\n",
      "427  31012.0  16687.0   5429.0  15082.0             439.0      1163.0\n",
      "428   3047.0   5970.0   4910.0   2198.0             850.0       317.0\n",
      "429   8607.0   1750.0   3580.0     47.0              84.0      2501.0\n",
      "430   3097.0   4230.0  16483.0    575.0             241.0      2080.0\n",
      "431   8533.0   5506.0   5160.0  13486.0            1377.0      1498.0\n",
      "432  21117.0   1162.0   4754.0    269.0            1328.0       395.0\n",
      "433   1982.0   3218.0   1493.0   1541.0             356.0      1449.0\n",
      "434  16731.0   3922.0   7994.0    688.0            2371.0       838.0\n",
      "435  29703.0  12051.0  16027.0  13135.0             182.0      2204.0\n",
      "436  39228.0   1431.0    764.0   4510.0              93.0      2346.0\n",
      "437  14531.0  15488.0  30243.0    437.0           14841.0      1867.0\n",
      "438  10290.0   1981.0   2232.0   1038.0             168.0      2125.0\n",
      "439   2787.0   1698.0   2510.0     65.0             477.0        52.0\n",
      "\n",
      "[438 rows x 6 columns]\n"
     ]
    }
   ],
   "source": [
    "print(data)"
   ]
  },
  {
   "cell_type": "code",
   "execution_count": 19,
   "metadata": {
    "collapsed": true
   },
   "outputs": [],
   "source": [
    "data_orig = data.copy()"
   ]
  },
  {
   "cell_type": "code",
   "execution_count": 21,
   "metadata": {
    "collapsed": false
   },
   "outputs": [
    {
     "data": {
      "text/html": [
       "<div>\n",
       "<style>\n",
       "    .dataframe thead tr:only-child th {\n",
       "        text-align: right;\n",
       "    }\n",
       "\n",
       "    .dataframe thead th {\n",
       "        text-align: left;\n",
       "    }\n",
       "\n",
       "    .dataframe tbody tr th {\n",
       "        vertical-align: top;\n",
       "    }\n",
       "</style>\n",
       "<table border=\"1\" class=\"dataframe\">\n",
       "  <thead>\n",
       "    <tr style=\"text-align: right;\">\n",
       "      <th></th>\n",
       "      <th>Fresh</th>\n",
       "      <th>Milk</th>\n",
       "      <th>Grocery</th>\n",
       "      <th>Frozen</th>\n",
       "      <th>Detergents_Paper</th>\n",
       "      <th>Delicassen</th>\n",
       "    </tr>\n",
       "  </thead>\n",
       "  <tbody>\n",
       "    <tr>\n",
       "      <th>Fresh</th>\n",
       "      <td>0.000000</td>\n",
       "      <td>0.101508</td>\n",
       "      <td>-0.011736</td>\n",
       "      <td>0.345675</td>\n",
       "      <td>-0.101784</td>\n",
       "      <td>0.248590</td>\n",
       "    </tr>\n",
       "    <tr>\n",
       "      <th>Milk</th>\n",
       "      <td>0.101508</td>\n",
       "      <td>0.000000</td>\n",
       "      <td>0.728560</td>\n",
       "      <td>0.124537</td>\n",
       "      <td>0.661953</td>\n",
       "      <td>0.406720</td>\n",
       "    </tr>\n",
       "    <tr>\n",
       "      <th>Grocery</th>\n",
       "      <td>-0.011736</td>\n",
       "      <td>0.728560</td>\n",
       "      <td>0.000000</td>\n",
       "      <td>-0.040102</td>\n",
       "      <td>0.924674</td>\n",
       "      <td>0.206802</td>\n",
       "    </tr>\n",
       "    <tr>\n",
       "      <th>Frozen</th>\n",
       "      <td>0.345675</td>\n",
       "      <td>0.124537</td>\n",
       "      <td>-0.040102</td>\n",
       "      <td>0.000000</td>\n",
       "      <td>-0.131447</td>\n",
       "      <td>0.394018</td>\n",
       "    </tr>\n",
       "    <tr>\n",
       "      <th>Detergents_Paper</th>\n",
       "      <td>-0.101784</td>\n",
       "      <td>0.661953</td>\n",
       "      <td>0.924674</td>\n",
       "      <td>-0.131447</td>\n",
       "      <td>0.000000</td>\n",
       "      <td>0.068991</td>\n",
       "    </tr>\n",
       "    <tr>\n",
       "      <th>Delicassen</th>\n",
       "      <td>0.248590</td>\n",
       "      <td>0.406720</td>\n",
       "      <td>0.206802</td>\n",
       "      <td>0.394018</td>\n",
       "      <td>0.068991</td>\n",
       "      <td>0.000000</td>\n",
       "    </tr>\n",
       "  </tbody>\n",
       "</table>\n",
       "</div>"
      ],
      "text/plain": [
       "                     Fresh      Milk   Grocery    Frozen  Detergents_Paper  \\\n",
       "Fresh             0.000000  0.101508 -0.011736  0.345675         -0.101784   \n",
       "Milk              0.101508  0.000000  0.728560  0.124537          0.661953   \n",
       "Grocery          -0.011736  0.728560  0.000000 -0.040102          0.924674   \n",
       "Frozen            0.345675  0.124537 -0.040102  0.000000         -0.131447   \n",
       "Detergents_Paper -0.101784  0.661953  0.924674 -0.131447          0.000000   \n",
       "Delicassen        0.248590  0.406720  0.206802  0.394018          0.068991   \n",
       "\n",
       "                  Delicassen  \n",
       "Fresh               0.248590  \n",
       "Milk                0.406720  \n",
       "Grocery             0.206802  \n",
       "Frozen              0.394018  \n",
       "Detergents_Paper    0.068991  \n",
       "Delicassen          0.000000  "
      ]
     },
     "execution_count": 21,
     "metadata": {},
     "output_type": "execute_result"
    }
   ],
   "source": [
    "# matriz de correlação\n",
    "corr_mat = data.corr()\n",
    "\n",
    "# Sete a diagonal com 0.0\n",
    "for x in range(corr_mat.shape[0]):\n",
    "    corr_mat.iloc[x,x] = 0.0\n",
    "    \n",
    "corr_mat"
   ]
  },
  {
   "cell_type": "code",
   "execution_count": 28,
   "metadata": {
    "collapsed": false
   },
   "outputs": [
    {
     "data": {
      "text/plain": [
       "0.92467358301921077"
      ]
     },
     "execution_count": 28,
     "metadata": {},
     "output_type": "execute_result"
    }
   ],
   "source": [
    "corr_mat.max().idxmax()\n",
    "corr_mat.max().max()\n",
    "\n",
    "#Máxima Correlação é entre Grocery e Detergents_Paper\n",
    "# Não faço idéia de como fazer em linha simples"
   ]
  },
  {
   "cell_type": "code",
   "execution_count": 39,
   "metadata": {
    "collapsed": false
   },
   "outputs": [
    {
     "data": {
      "text/plain": [
       "(440,)"
      ]
     },
     "execution_count": 39,
     "metadata": {},
     "output_type": "execute_result"
    }
   ],
   "source": [
    "log_columns = data.???.sort_values(ascending=False)\n",
    "#?????????????????????????????????????????????????????????????????\n",
    "log_columns = log_columns.loc[log_columns > 0.75]\n",
    "\n",
    "log_columns\n"
   ]
  },
  {
   "cell_type": "code",
   "execution_count": null,
   "metadata": {
    "collapsed": true
   },
   "outputs": [],
   "source": []
  }
 ],
 "metadata": {
  "kernelspec": {
   "display_name": "Python 3",
   "language": "python",
   "name": "python3"
  },
  "language_info": {
   "codemirror_mode": {
    "name": "ipython",
    "version": 3
   },
   "file_extension": ".py",
   "mimetype": "text/x-python",
   "name": "python",
   "nbconvert_exporter": "python",
   "pygments_lexer": "ipython3",
   "version": "3.5.4"
  }
 },
 "nbformat": 4,
 "nbformat_minor": 0
}
