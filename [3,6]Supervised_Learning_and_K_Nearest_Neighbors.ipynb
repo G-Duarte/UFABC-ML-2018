{
 "cells": [
  {
   "cell_type": "code",
   "execution_count": 59,
   "metadata": {
    "collapsed": false
   },
   "outputs": [
    {
     "name": "stdout",
     "output_type": "stream",
     "text": [
      "Chamada .Shape: \n",
      "(5000, 21)\n",
      "\n",
      "Chamada .Columns: \n",
      "Index(['state', 'account_length', 'area_code', 'phone_number', 'intl_plan',\n",
      "       'voice_mail_plan', 'number_vmail_messages', 'total_day_minutes',\n",
      "       'total_day_calls', 'total_day_charge', 'total_eve_minutes',\n",
      "       'total_eve_calls', 'total_eve_charge', 'total_night_minutes',\n",
      "       'total_night_calls', 'total_night_charge', 'total_intl_minutes',\n",
      "       'total_intl_calls', 'total_intl_charge',\n",
      "       'number_customer_service_calls', 'churned'],\n",
      "      dtype='object')\n",
      "\n",
      "Chamada .Dtypes: \n",
      "state                             object\n",
      "account_length                     int64\n",
      "area_code                          int64\n",
      "phone_number                      object\n",
      "intl_plan                         object\n",
      "voice_mail_plan                   object\n",
      "number_vmail_messages              int64\n",
      "total_day_minutes                float64\n",
      "total_day_calls                    int64\n",
      "total_day_charge                 float64\n",
      "total_eve_minutes                float64\n",
      "total_eve_calls                    int64\n",
      "total_eve_charge                 float64\n",
      "total_night_minutes              float64\n",
      "total_night_calls                  int64\n",
      "total_night_charge               float64\n",
      "total_intl_minutes               float64\n",
      "total_intl_calls                   int64\n",
      "total_intl_charge                float64\n",
      "number_customer_service_calls      int64\n",
      "churned                             bool\n",
      "dtype: object\n"
     ]
    }
   ],
   "source": [
    "import pandas\n",
    "DataChurn = pandas.read_csv(\"Orange_Telecom_Churn_Data.csv\")\n",
    "print(\"Chamada .Shape: \") \n",
    "print(DataChurn.shape)\n",
    "print()\n",
    "print(\"Chamada .Columns: \")\n",
    "print(DataChurn.columns)\n",
    "print()\n",
    "print(\"Chamada .Dtypes: \") \n",
    "print(DataChurn.dtypes)\n",
    "#print(DataChurn['state'])"
   ]
  },
  {
   "cell_type": "code",
   "execution_count": 60,
   "metadata": {
    "collapsed": false
   },
   "outputs": [],
   "source": [
    "DataChurn = DataChurn.drop(['state','area_code','phone_number'] , axis = 1)"
   ]
  },
  {
   "cell_type": "code",
   "execution_count": 61,
   "metadata": {
    "collapsed": false
   },
   "outputs": [],
   "source": [
    "import warnings\n",
    "warnings.filterwarnings('ignore', module='sklearn')\n",
    "\n",
    "from sklearn.preprocessing import MinMaxScaler, LabelBinarizer\n",
    "\n",
    "bin_cols = ['intl_plan', 'voice_mail_plan', 'churned']\n",
    "DataChurn = DataChurn.replace(to_replace = 'yes' , value = 1)\n",
    "DataChurn = DataChurn.replace(to_replace = 'True' , value = 1)\n",
    "DataChurn = DataChurn.replace(to_replace = 'no' , value = 0)\n",
    "DataChurn = DataChurn.replace(to_replace = 'False' , value = 0)\n",
    "DataY = DataChurn['churned']"
   ]
  },
  {
   "cell_type": "code",
   "execution_count": 62,
   "metadata": {
    "collapsed": false
   },
   "outputs": [],
   "source": [
    "DataChurnX = DataChurn.iloc[:, :17]\n",
    "DataChurnY = DataChurn.iloc[: , 17:]"
   ]
  },
  {
   "cell_type": "code",
   "execution_count": 66,
   "metadata": {
    "collapsed": false
   },
   "outputs": [],
   "source": [
    "from sklearn.preprocessing import StandardScaler, MinMaxScaler\n",
    "StdScaler = StandardScaler()\n",
    "X_DataChurn = StdScaler.fit(DataChurnX).transform(DataChurnX)"
   ]
  },
  {
   "cell_type": "code",
   "execution_count": 92,
   "metadata": {
    "collapsed": false
   },
   "outputs": [
    {
     "name": "stdout",
     "output_type": "stream",
     "text": [
      "Index(['account_length', 'intl_plan', 'voice_mail_plan',\n",
      "       'number_vmail_messages', 'total_day_minutes', 'total_day_calls',\n",
      "       'total_day_charge', 'total_eve_minutes', 'total_eve_calls',\n",
      "       'total_eve_charge', 'total_night_minutes', 'total_night_calls',\n",
      "       'total_night_charge', 'total_intl_minutes', 'total_intl_calls',\n",
      "       'total_intl_charge', 'number_customer_service_calls'],\n",
      "      dtype='object')\n"
     ]
    }
   ],
   "source": [
    "from sklearn.neighbors import KNeighborsClassifier\n",
    "\n",
    "knn = KNeighborsClassifier(n_neighbors=3 , metric='minkowski', p=2)\n",
    "\n",
    "ChurnYasInt = DataChurnY*1\n",
    "knn.fit(X_DataChurn, ChurnYasInt.values.ravel())\n",
    "\n",
    "print(DataChurnX.columns)"
   ]
  },
  {
   "cell_type": "code",
   "execution_count": 98,
   "metadata": {
    "collapsed": false
   },
   "outputs": [
    {
     "name": "stdout",
     "output_type": "stream",
     "text": [
      "[0]\n",
      "[1]\n"
     ]
    }
   ],
   "source": [
    "a = knn.predict([1,1,1,1,1,1,1,1,1,1,1,1,1,1,1,1,1])\n",
    "b = knn.predict([0,0,0,0,0,0,0,0,0,0,0,0,0,0,0,0,5])\n",
    "print(a)\n",
    "print(b)"
   ]
  },
  {
   "cell_type": "code",
   "execution_count": null,
   "metadata": {
    "collapsed": true
   },
   "outputs": [],
   "source": []
  }
 ],
 "metadata": {
  "kernelspec": {
   "display_name": "Python 3",
   "language": "python",
   "name": "python3"
  },
  "language_info": {
   "codemirror_mode": {
    "name": "ipython",
    "version": 3
   },
   "file_extension": ".py",
   "mimetype": "text/x-python",
   "name": "python",
   "nbconvert_exporter": "python",
   "pygments_lexer": "ipython3",
   "version": "3.5.4"
  }
 },
 "nbformat": 4,
 "nbformat_minor": 0
}
