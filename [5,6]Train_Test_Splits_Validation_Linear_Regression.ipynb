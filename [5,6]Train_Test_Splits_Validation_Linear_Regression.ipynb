{
 "cells": [
  {
   "cell_type": "code",
   "execution_count": 1,
   "metadata": {
    "collapsed": false
   },
   "outputs": [
    {
     "name": "stdout",
     "output_type": "stream",
     "text": [
      "object     43\n",
      "float64    21\n",
      "int64      16\n",
      "dtype: int64 \n",
      "\n",
      "(1379, 80)\n"
     ]
    }
   ],
   "source": [
    "import pandas\n",
    "import numpy\n",
    "HousingData = pandas.read_csv(\"Ames_Housing_Sales.csv\")\n",
    "print(HousingData.dtypes.value_counts() ,  \"\\n\")\n",
    "print(HousingData.shape)"
   ]
  },
  {
   "cell_type": "code",
   "execution_count": 2,
   "metadata": {
    "collapsed": false
   },
   "outputs": [
    {
     "name": "stdout",
     "output_type": "stream",
     "text": [
      "Número de Colunas de atributos: 42 \n",
      "\n",
      "Index(['Alley', 'BldgType', 'BsmtCond', 'BsmtExposure', 'BsmtFinType1',\n",
      "       'BsmtFinType2', 'BsmtQual', 'CentralAir', 'Condition1', 'Condition2',\n",
      "       'Electrical', 'ExterCond', 'ExterQual', 'Exterior1st', 'Exterior2nd',\n",
      "       'Fence', 'FireplaceQu', 'Foundation', 'Functional', 'GarageCond',\n",
      "       'GarageFinish', 'GarageQual', 'GarageType', 'Heating', 'HeatingQC',\n",
      "       'HouseStyle', 'KitchenQual', 'LandContour', 'LandSlope', 'LotConfig',\n",
      "       'LotShape', 'MSZoning', 'MasVnrType', 'MiscFeature', 'Neighborhood',\n",
      "       'PavedDrive', 'PoolQC', 'RoofMatl', 'RoofStyle', 'SaleCondition',\n",
      "       'SaleType', 'Street', 'Utilities'],\n",
      "      dtype='object')\n",
      "[3, 5, 4, 5, 6, 7, 5, 2, 9, 8, 5, 4, 4, 14, 16, 5, 6, 6, 7, 5, 3, 5, 6, 6, 5, 8, 4, 4, 3, 5, 4, 5, 4, 5, 25, 3, 4, 8, 6, 6, 9, 2, 2]\n",
      "Total Atributos:  215\n"
     ]
    }
   ],
   "source": [
    "# Selecione apenas os tipos object\n",
    "mask = HousingData.dtypes == numpy.object\n",
    "categorical_cols = HousingData.columns[mask]\n",
    "print(\"Número de Colunas de atributos:\",categorical_cols.shape[0] -1 , \"\\n\")\n",
    "print(categorical_cols)\n",
    "# Determine quantos atributos seriam criados\n",
    "# Dica: aplique (apply) o método nunique no dataframe nas colunas categorical_cols\n",
    "# opcionalmente ordene os valores utilizando sort_values\n",
    "i = 0\n",
    "j = 0\n",
    "num_ohc_cols = [0] * 43\n",
    "for col in categorical_cols:    \n",
    "    num_ohc_cols[i] = HousingData[col].nunique()      \n",
    "    if (num_ohc_cols[i] > 1):\n",
    "        j = j + num_ohc_cols[i] - 1\n",
    "    i = i + 1;  \n",
    "    # verifique a saída\n",
    "print(num_ohc_cols)\n",
    "print(\"Total Atributos: \" , j)\n"
   ]
  },
  {
   "cell_type": "code",
   "execution_count": 3,
   "metadata": {
    "collapsed": false
   },
   "outputs": [],
   "source": [
    "from sklearn.preprocessing import OneHotEncoder, LabelEncoder\n",
    "from scipy.sparse import csc_matrix\n",
    "\n",
    "\n",
    "HousingDataCopy = HousingData.copy()\n",
    "mask2 = HousingDataCopy.dtypes == numpy.object\n",
    "categorical_cols = HousingDataCopy.columns[mask2]\n",
    "#print(HousingDataCopy.axes)\n",
    "#print(categorical_cols)\n",
    "\n",
    "\n",
    "le = LabelEncoder()\n",
    "ohc = OneHotEncoder()\n",
    "#print(num_ohc_cols.index)\n",
    "#print(num_ohc_cols)\n",
    "# para cada coluna categórica\n"
   ]
  },
  {
   "cell_type": "code",
   "execution_count": 4,
   "metadata": {
    "collapsed": false
   },
   "outputs": [],
   "source": [
    "\n",
    "# para cada coluna categórica\n",
    "for col in categorical_cols:\n",
    "    \n",
    "    # Aplique o método .fit_transform do LabelEncoder e especifique .astype(np.int)\n",
    "    # o reshape faz com que dat seja uma matriz multidimensional com uma coluna (ao invés de um vetor)\n",
    "    dat = le.fit_transform(HousingDataCopy[col]).astype(numpy.int).reshape(-1,1)\n",
    "    \n",
    "    # Remova a coluna col da base de dados   \n",
    "    HousingDataCopy = HousingDataCopy.drop(col , axis = 1)\n",
    "    \n",
    "    # One hot encode the data--this returns a sparse array\n",
    "    new_dat = ohc.fit_transform(dat)\n",
    "    new_dat = new_dat.todense()\n",
    "    \n",
    "    # Vamos criar novos nomes de colunas\n",
    "    n_cols = new_dat.shape[1]\n",
    "    col_names = ['_'.join([col, str(x)]) for x in range(n_cols)]\n",
    "    # Cria um novo dataframe a partir de new_dat e col_names, utilize o índice de data_ohc\n",
    "    new_df = pandas.DataFrame(new_dat, columns = col_names)\n",
    "    \n",
    "    #Concatene data_ohc com new_df    \n",
    "    \n",
    "    HousingDataCopy = pandas.concat([HousingDataCopy , new_df] , axis = 1)\n"
   ]
  },
  {
   "cell_type": "code",
   "execution_count": 11,
   "metadata": {
    "collapsed": false
   },
   "outputs": [
    {
     "name": "stdout",
     "output_type": "stream",
     "text": [
      "(1379, 295)\n",
      "(1379, 80)\n",
      "Diferença de : 215  colunas\n"
     ]
    }
   ],
   "source": [
    "print(HousingDataCopy.shape)\n",
    "#imprima as dimensões dos dados originais\n",
    "print(HousingData.shape)\n",
    "\n",
    "# Calcule a diferença entre a quantidade de atributos da base original e da base nova\n",
    "print(\"Diferença de :\" , HousingDataCopy.shape[1] - HousingData.shape[1] , \" colunas\")\n",
    "\n"
   ]
  },
  {
   "cell_type": "code",
   "execution_count": 12,
   "metadata": {
    "collapsed": true
   },
   "outputs": [],
   "source": [
    "# Remova as colunas categóricas do dataframe original\n",
    "\n",
    "for col in categorical_cols:\n",
    "    HousingData = HousingData.drop(col , axis = 1)"
   ]
  },
  {
   "cell_type": "code",
   "execution_count": 14,
   "metadata": {
    "collapsed": false
   },
   "outputs": [
    {
     "name": "stdout",
     "output_type": "stream",
     "text": [
      "(1379, 37)\n",
      "Diferença de : 258  colunas\n"
     ]
    }
   ],
   "source": [
    "#imprima as dimensões dos dados originais, sem os atributos categóricos\n",
    "print(HousingData.shape)\n",
    "\n",
    "# Calcule a diferença entre a quantidade de atributos da base original sem categóricos e da base nova\n",
    "print(\"Diferença de :\" , HousingDataCopy.shape[1] - HousingData.shape[1] , \" colunas\")\n"
   ]
  },
  {
   "cell_type": "code",
   "execution_count": null,
   "metadata": {
    "collapsed": true
   },
   "outputs": [],
   "source": []
  }
 ],
 "metadata": {
  "kernelspec": {
   "display_name": "Python 3",
   "language": "python",
   "name": "python3"
  },
  "language_info": {
   "codemirror_mode": {
    "name": "ipython",
    "version": 3
   },
   "file_extension": ".py",
   "mimetype": "text/x-python",
   "name": "python",
   "nbconvert_exporter": "python",
   "pygments_lexer": "ipython3",
   "version": "3.5.4"
  }
 },
 "nbformat": 4,
 "nbformat_minor": 0
}
